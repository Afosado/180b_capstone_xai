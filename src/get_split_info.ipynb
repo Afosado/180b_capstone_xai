{
 "cells": [
  {
   "cell_type": "code",
   "execution_count": 1,
   "metadata": {},
   "outputs": [],
   "source": [
    "import json"
   ]
  },
  {
   "cell_type": "code",
   "execution_count": 2,
   "metadata": {},
   "outputs": [],
   "source": [
    "karpathy_json_path = \"../../personal_afosado/splits/dataset_coco.json\""
   ]
  },
  {
   "cell_type": "code",
   "execution_count": 3,
   "metadata": {},
   "outputs": [],
   "source": [
    " # Read Karpathy JSON\n",
    "with open(karpathy_json_path, 'r') as j:\n",
    "    data = json.load(j)"
   ]
  },
  {
   "cell_type": "code",
   "execution_count": 4,
   "metadata": {},
   "outputs": [
    {
     "name": "stdout",
     "output_type": "stream",
     "text": [
      "{'filepath': 'val2014', 'sentids': [107139, 117417, 119037, 121212, 123774], 'filename': 'COCO_val2014_000000025394.jpg', 'imgid': 18431, 'split': 'restval', 'sentences': [{'tokens': ['bartender', 'opening', 'a', 'bottle', 'of', 'wine', 'while', 'patron', 'waits', 'patiently'], 'raw': 'Bartender opening a bottle of wine while patron waits patiently', 'imgid': 18431, 'sentid': 107139}, {'tokens': ['a', 'bartender', 'opening', 'a', 'bottle', 'with', 'a', 'rag'], 'raw': 'A bartender opening a bottle with a rag.', 'imgid': 18431, 'sentid': 117417}, {'tokens': ['hey', 'man', 'that', 'is', 'opening', 'up', 'a', 'bottle', 'of', 'wine'], 'raw': 'Hey man that is opening up a bottle of wine.', 'imgid': 18431, 'sentid': 119037}, {'tokens': ['a', 'young', 'man', 'serving', 'wine', 'at', 'a', 'bar'], 'raw': 'A young man serving wine at a bar.', 'imgid': 18431, 'sentid': 121212}, {'tokens': ['a', 'bartender', 'opens', 'a', 'wine', 'bottle', 'with', 'a', 'towel'], 'raw': 'A bartender opens a wine bottle with a towel. ', 'imgid': 18431, 'sentid': 123774}], 'cocoid': 25394}\n"
     ]
    }
   ],
   "source": [
    "for img in data['images']:\n",
    "    if img['filename'].split('_')[2] == '000000025394.jpg':\n",
    "        print(img)"
   ]
  },
  {
   "cell_type": "code",
   "execution_count": 5,
   "metadata": {},
   "outputs": [
    {
     "name": "stdout",
     "output_type": "stream",
     "text": [
      "{'filepath': 'val2014', 'sentids': [359076, 360444, 361740, 362370, 366066], 'filename': 'COCO_val2014_000000031093.jpg', 'imgid': 25128, 'split': 'val', 'sentences': [{'tokens': ['a', 'skateboarder', 'is', 'on', 'top', 'of', 'a', 'cement', 'bowl'], 'raw': 'A skateboarder is on top of a cement bowl.', 'imgid': 25128, 'sentid': 359076}, {'tokens': ['a', 'man', 'on', 'a', 'skateboard', 'is', 'doing', 'a', 'trick'], 'raw': 'A man on a skateboard is doing a trick.', 'imgid': 25128, 'sentid': 360444}, {'tokens': ['a', 'male', 'skateboarder', 'is', 'trying', 'to', 'pull', 'off', 'a', 'trick', 'on', 'the', 'ramp'], 'raw': 'A male skateboarder is trying to pull off a trick on the ramp. ', 'imgid': 25128, 'sentid': 361740}, {'tokens': ['a', 'man', 'doing', 'a', 'skateboard', 'trick', 'on', 'top', 'of', 'pool'], 'raw': 'a man doing a skateboard trick on top of pool ', 'imgid': 25128, 'sentid': 362370}, {'tokens': ['a', 'man', 'on', 'a', 'skateboard', 'wearing', 'a', 'helmet', 'and', 'safety', 'pads', 'while', 'riding', 'in', 'an', 'empty', 'swimming', 'pool'], 'raw': 'A man on a skateboard wearing a helmet and safety pads while riding in an empty swimming pool.', 'imgid': 25128, 'sentid': 366066}], 'cocoid': 31093}\n"
     ]
    }
   ],
   "source": [
    "for img in data['images']:\n",
    "    if img['filename'].split('_')[2] == '000000031093.jpg':\n",
    "        print(img)"
   ]
  },
  {
   "cell_type": "code",
   "execution_count": 6,
   "metadata": {},
   "outputs": [
    {
     "name": "stdout",
     "output_type": "stream",
     "text": [
      "{'filepath': 'val2014', 'sentids': [753503, 753712, 754855, 755086, 756478], 'filename': 'COCO_val2014_000000295316.jpg', 'imgid': 4798, 'split': 'restval', 'sentences': [{'tokens': ['some', 'people', 'are', 'riding', 'surfboards', 'on', 'a', 'wave'], 'raw': 'some people are riding surfboards on a wave', 'imgid': 4798, 'sentid': 753503}, {'tokens': ['two', 'people', 'surf', 'as', 'two', 'others', 'are', 'bodyboarding', 'on', 'a', 'wave'], 'raw': 'Two people surf as two others are bodyboarding on a wave. ', 'imgid': 4798, 'sentid': 753712}, {'tokens': ['four', 'surfers', 'are', 'trying', 'to', 'catch', 'a', 'wave', 'as', 'they', 'stand'], 'raw': 'Four surfers are trying to catch a wave as they stand.', 'imgid': 4798, 'sentid': 754855}, {'tokens': ['several', 'people', 'are', 'riding', 'the', 'waves', 'on', 'their', 'surfboards'], 'raw': 'Several people are riding the waves on their surfboards.', 'imgid': 4798, 'sentid': 755086}, {'tokens': ['several', 'people', 'on', 'surfboards', 'who', 'are', 'riding', 'a', 'wave'], 'raw': 'Several people on surfboards who are riding a wave.', 'imgid': 4798, 'sentid': 756478}], 'cocoid': 295316}\n"
     ]
    }
   ],
   "source": [
    "for img in data['images']:\n",
    "    if img['filename'].split('_')[2] == '000000295316.jpg':\n",
    "        print(img)"
   ]
  },
  {
   "cell_type": "code",
   "execution_count": 7,
   "metadata": {},
   "outputs": [
    {
     "name": "stdout",
     "output_type": "stream",
     "text": [
      "{'filepath': 'val2014', 'sentids': [521688, 523218, 524160, 526374, 526383], 'filename': 'COCO_val2014_000000311909.jpg', 'imgid': 6444, 'split': 'restval', 'sentences': [{'tokens': ['a', 'public', 'transportation', 'bus', 'near', 'a', 'curb', 'with', 'a', 'bicycle', 'rack'], 'raw': 'A public transportation bus near a curb with a bicycle rack.', 'imgid': 6444, 'sentid': 521688}, {'tokens': ['the', '#41', 'bus', 'parked', 'at', 'the', 'curb', 'waiting', 'for', 'passengers', 'to', 'board'], 'raw': 'The #41 bus parked at the curb waiting for passengers to board', 'imgid': 6444, 'sentid': 523218}, {'tokens': ['a', 'large', 'bus', 'parked', 'by', 'the', 'curb'], 'raw': 'A large bus parked by the curb ', 'imgid': 6444, 'sentid': 524160}, {'tokens': ['a', 'white', 'bus', 'that', 'has', 'a', '41', 'crosstown', 'sign', 'on', 'the', 'front'], 'raw': 'A white bus that has a 41 Crosstown sign on the front.', 'imgid': 6444, 'sentid': 526374}, {'tokens': ['a', 'very', 'big', 'white', 'bus', 'parked', 'by', 'the', 'curb'], 'raw': 'A very big white bus parked by the curb.', 'imgid': 6444, 'sentid': 526383}], 'cocoid': 311909}\n"
     ]
    }
   ],
   "source": [
    "for img in data['images']:\n",
    "    if img['filename'].split('_')[2] == '000000311909.jpg':\n",
    "        print(img)"
   ]
  },
  {
   "cell_type": "code",
   "execution_count": 8,
   "metadata": {},
   "outputs": [
    {
     "name": "stdout",
     "output_type": "stream",
     "text": [
      "{'filepath': 'val2014', 'sentids': [690370, 695014, 696271, 696466, 697786], 'filename': 'COCO_val2014_000000326542.jpg', 'imgid': 9816, 'split': 'restval', 'sentences': [{'tokens': ['there', 'is', 'a', 'male', 'skier', 'going', 'down', 'a', 'hill'], 'raw': 'there is a male skier going down a hill', 'imgid': 9816, 'sentid': 690370}, {'tokens': ['this', 'is', 'a', 'man', 'skiing', 'down', 'a', 'snowy', 'slope'], 'raw': 'this is a man skiing down a snowy slope', 'imgid': 9816, 'sentid': 695014}, {'tokens': ['a', 'person', 'skiing', 'down', 'a', 'mountain', 'on', 'a', 'trail'], 'raw': 'A person skiing down a mountain on a trail.', 'imgid': 9816, 'sentid': 696271}, {'tokens': ['skier', 'with', 'a', 'red', 'jacket', 'on', 'going', 'down', 'the', 'side', 'of', 'a', 'mountain'], 'raw': 'Skier with a red jacket on going down the side of a mountain. ', 'imgid': 9816, 'sentid': 696466}, {'tokens': ['a', 'man', 'riding', 'skis', 'down', 'a', 'snow', 'covered', 'slope'], 'raw': 'a man riding skis down a snow covered slope.', 'imgid': 9816, 'sentid': 697786}], 'cocoid': 326542}\n"
     ]
    }
   ],
   "source": [
    "for img in data['images']:\n",
    "    if img['filename'].split('_')[2] == '000000326542.jpg':\n",
    "        print(img)"
   ]
  },
  {
   "cell_type": "code",
   "execution_count": 9,
   "metadata": {},
   "outputs": [
    {
     "name": "stdout",
     "output_type": "stream",
     "text": [
      "{'filepath': 'val2014', 'sentids': [189493, 195349, 199579, 205774, 206590], 'filename': 'COCO_val2014_000000455624.jpg', 'imgid': 32899, 'split': 'val', 'sentences': [{'tokens': ['person', 'driving', 'a', 'plated', 'motorcycle', 'on', 'a', 'track', 'with', 'people', 'watching'], 'raw': 'Person driving a plated motorcycle on a track with people watching.', 'imgid': 32899, 'sentid': 189493}, {'tokens': ['a', 'man', 'is', 'on', 'the', 'motor', 'bike', 'with', 'a', 'helemt'], 'raw': 'A MAN IS ON THE MOTOR BIKE WITH A HELEMT', 'imgid': 32899, 'sentid': 195349}, {'tokens': ['a', 'close', 'up', 'of', 'a', 'person', 'driving', 'a', 'motorcycle', 'on', 'a', 'road'], 'raw': 'a close up of a person driving a motorcycle on a road', 'imgid': 32899, 'sentid': 199579}, {'tokens': ['a', 'man', 'who', 'is', 'riding', 'a', 'silver', 'motorcycle', 'with', 'the', 'number', '120', 'on', 'it'], 'raw': 'A man who is riding a silver motorcycle with the number 120 on it.', 'imgid': 32899, 'sentid': 205774}, {'tokens': ['people', 'standing', 'behind', 'bales', 'of', 'straw', 'as', 'a', 'protection', 'from', 'motorcycles', 'on', 'a', 'track'], 'raw': 'People standing behind bales of straw as a protection from motorcycles on a track.', 'imgid': 32899, 'sentid': 206590}], 'cocoid': 455624}\n"
     ]
    }
   ],
   "source": [
    "for img in data['images']:\n",
    "    if img['filename'].split('_')[2] == '000000455624.jpg':\n",
    "        print(img)"
   ]
  },
  {
   "cell_type": "code",
   "execution_count": 10,
   "metadata": {},
   "outputs": [
    {
     "name": "stdout",
     "output_type": "stream",
     "text": [
      "{'filepath': 'val2014', 'sentids': [391458, 393405, 396177, 397842, 400848], 'filename': 'COCO_val2014_000000466156.jpg', 'imgid': 38999, 'split': 'test', 'sentences': [{'tokens': ['the', 'striped', 'cat', 'is', 'sitting', 'on', 'top', 'of', 'the', 'car'], 'raw': 'The striped cat is sitting on top of the car.', 'imgid': 38999, 'sentid': 391458}, {'tokens': ['a', 'cat', 'sitting', 'on', 'a', 'car', 'engine', 'with', 'the', 'hood', 'up'], 'raw': 'a cat sitting on a car engine with the hood up', 'imgid': 38999, 'sentid': 393405}, {'tokens': ['someone', 'opened', 'a', 'hood', 'on', 'a', 'car', 'and', 'he', 'cat', 'jumped', 'up', 'on', 'the', 'edge'], 'raw': 'someone opened a hood on a car and he cat jumped up on the edge', 'imgid': 38999, 'sentid': 396177}, {'tokens': ['black', 'cat', 'sitting', 'on', 'the', 'engine', 'of', 'a', 'black', 'car'], 'raw': 'Black cat sitting on the engine of a black car. ', 'imgid': 38999, 'sentid': 397842}, {'tokens': ['a', 'gray', 'cat', 'is', 'walking', 'next', 'to', 'a', 'truck'], 'raw': 'A gray cat is walking next to a truck.', 'imgid': 38999, 'sentid': 400848}], 'cocoid': 466156}\n"
     ]
    }
   ],
   "source": [
    "for img in data['images']:\n",
    "    if img['filename'].split('_')[2] == '000000466156.jpg':\n",
    "        print(img)"
   ]
  },
  {
   "cell_type": "code",
   "execution_count": 11,
   "metadata": {},
   "outputs": [
    {
     "name": "stdout",
     "output_type": "stream",
     "text": [
      "{'filepath': 'val2014', 'sentids': [366405, 370161, 370551, 372675, 373137], 'filename': 'COCO_val2014_000000491464.jpg', 'imgid': 27527, 'split': 'restval', 'sentences': [{'tokens': ['kid', 'poses', 'for', 'a', 'picture', 'in', 'a', 'baseball', 'uniform', 'holding', 'a', 'bat'], 'raw': 'Kid poses for a picture in a baseball uniform holding a bat', 'imgid': 27527, 'sentid': 366405}, {'tokens': ['a', 'young', 'boy', 'poses', 'in', 'his', 'babseball', 'uniform', 'holding', 'his', 'bat', 'on', 'a', 'field'], 'raw': 'A young boy poses in his babseball uniform holding his bat on a field.', 'imgid': 27527, 'sentid': 370161}, {'tokens': ['a', 'young', 'boy', 'in', 'a', 'baseball', 'uniform', 'holding', 'a', 'bat', 'over', 'his', 'shoulder'], 'raw': 'A young boy in a baseball uniform holding a bat over his shoulder.', 'imgid': 27527, 'sentid': 370551}, {'tokens': ['a', 'boy', 'with', 'a', 'baseball', 'bat', 'in', 'the', 'ground'], 'raw': 'A boy with a baseball bat in the ground.', 'imgid': 27527, 'sentid': 372675}, {'tokens': ['a', 'kid', 'with', 'a', 'baseball', 'bat', 'on', 'a', 'field'], 'raw': 'A kid with a baseball bat on a field.', 'imgid': 27527, 'sentid': 373137}], 'cocoid': 491464}\n"
     ]
    }
   ],
   "source": [
    "for img in data['images']:\n",
    "    if img['filename'].split('_')[2] == '000000491464.jpg':\n",
    "        print(img)"
   ]
  },
  {
   "cell_type": "code",
   "execution_count": 12,
   "metadata": {},
   "outputs": [
    {
     "name": "stdout",
     "output_type": "stream",
     "text": [
      "{'filepath': 'val2014', 'sentids': [681968, 687884, 690044, 691082, 691628], 'filename': 'COCO_val2014_000000548555.jpg', 'imgid': 33433, 'split': 'restval', 'sentences': [{'tokens': ['there', 'is', 'a', 'chili', 'dog', 'in', 'the', 'bun'], 'raw': 'There is a chili dog in the bun.', 'imgid': 33433, 'sentid': 681968}, {'tokens': ['there', 'is', 'a', 'long', 'hot', 'dog', 'that', 'has', 'toppings', 'on', 'it'], 'raw': 'there is a long hot dog that has toppings on it', 'imgid': 33433, 'sentid': 687884}, {'tokens': ['a', 'plate', 'with', 'a', 'hot', 'dog', 'covered', 'in', 'chili', 'on', 'it'], 'raw': 'A plate with a hot dog covered in chili on it.', 'imgid': 33433, 'sentid': 690044}, {'tokens': ['a', 'chili', 'dog', 'on', 'a', 'homemade', 'bun', 'is', 'worth', 'the', 'wait'], 'raw': 'A chili dog on a homemade bun is worth the wait.', 'imgid': 33433, 'sentid': 691082}, {'tokens': ['a', 'person', 'holding', 'a', 'chili', 'hot', 'dog', 'on', 'a', 'napkin'], 'raw': 'A person holding a chili hot dog on a napkin.', 'imgid': 33433, 'sentid': 691628}], 'cocoid': 548555}\n"
     ]
    }
   ],
   "source": [
    "for img in data['images']:\n",
    "    if img['filename'].split('_')[2] == '000000548555.jpg':\n",
    "        print(img)"
   ]
  },
  {
   "cell_type": "code",
   "execution_count": 13,
   "metadata": {},
   "outputs": [
    {
     "name": "stdout",
     "output_type": "stream",
     "text": [
      "{'filepath': 'val2014', 'sentids': [393811, 395968, 516499, 517588, 520132], 'filename': 'COCO_val2014_000000551215.jpg', 'imgid': 797, 'split': 'restval', 'sentences': [{'tokens': ['a', 'tennis', 'player', 'running', 'to', 'get', 'to', 'the', 'ball'], 'raw': 'a tennis player running to get to the ball', 'imgid': 797, 'sentid': 393811}, {'tokens': ['the', 'woman', 'is', 'playing', 'a', 'game', 'of', 'tennis', 'on', 'the', 'court'], 'raw': 'The woman is playing a game of tennis on the court. ', 'imgid': 797, 'sentid': 395968}, {'tokens': ['a', 'woman', 'reaching', 'with', 'her', 'tennis', 'racquet', 'on', 'a', 'court'], 'raw': 'A woman reaching with her tennis racquet on a court.', 'imgid': 797, 'sentid': 516499}, {'tokens': ['a', 'woman', 'running', 'across', 'a', 'tennis', 'court', 'so', 'she', 'can', 'hit', 'the', 'pall'], 'raw': 'a woman running across a tennis court  so she can hit the pall ', 'imgid': 797, 'sentid': 517588}, {'tokens': ['a', 'female', 'holding', 'a', 'tennis', 'racket', 'and', 'lunging', 'for', 'a', 'tennis', 'ball'], 'raw': 'a female holding a tennis racket and lunging for a tennis ball', 'imgid': 797, 'sentid': 520132}], 'cocoid': 551215}\n"
     ]
    }
   ],
   "source": [
    "for img in data['images']:\n",
    "    if img['filename'].split('_')[2] == '000000551215.jpg':\n",
    "        print(img)"
   ]
  },
  {
   "cell_type": "markdown",
   "metadata": {},
   "source": [
    "## Examples"
   ]
  },
  {
   "cell_type": "code",
   "execution_count": 14,
   "metadata": {},
   "outputs": [
    {
     "name": "stdout",
     "output_type": "stream",
     "text": [
      "{'filepath': 'train2014', 'sentids': [709676, 716051, 716561, 720752, 722927], 'filename': 'COCO_train2014_000000003219.jpg', 'imgid': 66006, 'split': 'train', 'sentences': [{'tokens': ['various', 'items', 'such', 'as', 'a', 'netbook', 'and', 'a', 'cellphone', 'sit', 'atop', 'a', 'table'], 'raw': 'Various items such as a netbook and a cellphone sit atop a table.', 'imgid': 66006, 'sentid': 709676}, {'tokens': ['a', 'table', 'with', 'some', 'assorted', 'little', 'kids', 'tows', 'on', 'it'], 'raw': 'a table with some assorted little kids tows on it ', 'imgid': 66006, 'sentid': 716051}, {'tokens': ['some', 'phones', 'on', 'a', 'wooden', 'table', 'and', 'a', 'laptop'], 'raw': 'some phones on a wooden table and a laptop', 'imgid': 66006, 'sentid': 716561}, {'tokens': ['a', 'table', 'with', 'some', 'cellphones', 'an', 'other', 'objects'], 'raw': 'A table with some cellphones an other objects', 'imgid': 66006, 'sentid': 720752}, {'tokens': ['several', 'personal', 'effects', 'set', 'out', 'on', 'a', 'table'], 'raw': 'Several personal effects set out on a table.', 'imgid': 66006, 'sentid': 722927}], 'cocoid': 3219}\n"
     ]
    }
   ],
   "source": [
    "for img in data['images']:\n",
    "    if img['filename'].split('_')[2] == '000000003219.jpg':\n",
    "        print(img)"
   ]
  },
  {
   "cell_type": "code",
   "execution_count": 15,
   "metadata": {},
   "outputs": [
    {
     "name": "stdout",
     "output_type": "stream",
     "text": [
      "{'filepath': 'train2014', 'sentids': [355617, 357342, 358941, 361473, 362211], 'filename': 'COCO_train2014_000000003225.jpg', 'imgid': 61892, 'split': 'train', 'sentences': [{'tokens': ['a', 'young', 'child', 'holding', 'a', 'baseball', 'bat', 'while', 'wearing', 'a', 'thick', 'jacket'], 'raw': 'A young child holding a baseball bat while wearing a thick jacket.', 'imgid': 61892, 'sentid': 355617}, {'tokens': ['the', 'boy', 'with', 'the', 'heavy', 'coat', 'is', 'getting', 'ready', 'to', 'play', 'baseball'], 'raw': 'The boy with the heavy coat is getting ready to play baseball.', 'imgid': 61892, 'sentid': 357342}, {'tokens': ['a', 'close', 'up', 'of', 'a', 'person', 'wearing', 'a', 'coat', 'and', 'holding', 'a', 'a', 'baseball', 'bat'], 'raw': 'a close up of a person wearing a coat and holding a a baseball bat', 'imgid': 61892, 'sentid': 358941}, {'tokens': ['a', 'young', 'boy', 'is', 'bundled', 'up', 'holding', 'a', 'bat'], 'raw': 'A young boy is bundled up holding a bat. ', 'imgid': 61892, 'sentid': 361473}, {'tokens': ['a', 'young', 'child', 'in', 'a', 'hooded', 'winter', 'jacket', 'holding', 'a', 'baseball', 'bat'], 'raw': 'A young child in a hooded winter jacket holding a baseball bat.', 'imgid': 61892, 'sentid': 362211}], 'cocoid': 3225}\n"
     ]
    }
   ],
   "source": [
    "for img in data['images']:\n",
    "    if img['filename'].split('_')[2] == '000000003225.jpg':\n",
    "        print(img)"
   ]
  },
  {
   "cell_type": "code",
   "execution_count": 16,
   "metadata": {},
   "outputs": [
    {
     "name": "stdout",
     "output_type": "stream",
     "text": [
      "{'filepath': 'train2014', 'sentids': [709676, 716051, 716561, 720752, 722927], 'filename': 'COCO_train2014_000000003219.jpg', 'imgid': 66006, 'split': 'train', 'sentences': [{'tokens': ['various', 'items', 'such', 'as', 'a', 'netbook', 'and', 'a', 'cellphone', 'sit', 'atop', 'a', 'table'], 'raw': 'Various items such as a netbook and a cellphone sit atop a table.', 'imgid': 66006, 'sentid': 709676}, {'tokens': ['a', 'table', 'with', 'some', 'assorted', 'little', 'kids', 'tows', 'on', 'it'], 'raw': 'a table with some assorted little kids tows on it ', 'imgid': 66006, 'sentid': 716051}, {'tokens': ['some', 'phones', 'on', 'a', 'wooden', 'table', 'and', 'a', 'laptop'], 'raw': 'some phones on a wooden table and a laptop', 'imgid': 66006, 'sentid': 716561}, {'tokens': ['a', 'table', 'with', 'some', 'cellphones', 'an', 'other', 'objects'], 'raw': 'A table with some cellphones an other objects', 'imgid': 66006, 'sentid': 720752}, {'tokens': ['several', 'personal', 'effects', 'set', 'out', 'on', 'a', 'table'], 'raw': 'Several personal effects set out on a table.', 'imgid': 66006, 'sentid': 722927}], 'cocoid': 3219}\n"
     ]
    }
   ],
   "source": [
    "for img in data['images']:\n",
    "    if img['filename'].split('_')[2] == '000000003219.jpg':\n",
    "        print(img)"
   ]
  },
  {
   "cell_type": "code",
   "execution_count": 17,
   "metadata": {},
   "outputs": [
    {
     "name": "stdout",
     "output_type": "stream",
     "text": [
      "{'filepath': 'val2014', 'sentids': [773209, 773644, 777481, 778339, 778975], 'filename': 'COCO_val2014_000000316617.jpg', 'imgid': 13806, 'split': 'restval', 'sentences': [{'tokens': ['three', 'friends', 'are', 'playing', 'frisbee', 'golf', 'in', 'the', 'woods'], 'raw': 'Three friends are playing frisbee golf in the woods.', 'imgid': 13806, 'sentid': 773209}, {'tokens': ['a', 'couple', 'of', 'men', 'are', 'standing', 'in', 'the', 'woods'], 'raw': 'a couple of men are standing in the woods', 'imgid': 13806, 'sentid': 773644}, {'tokens': ['three', 'people', 'holding', 'frisbees', 'in', 'a', 'wooded', 'area'], 'raw': 'Three people holding frisbees in a wooded area.', 'imgid': 13806, 'sentid': 777481}, {'tokens': ['two', 'young', 'men', 'and', 'a', 'girl', 'holding', 'frisbees', 'in', 'the', 'woods'], 'raw': 'Two young men and a girl holding Frisbees in the woods.', 'imgid': 13806, 'sentid': 778339}, {'tokens': ['a', 'group', 'of', 'people', 'in', 'a', 'wooded', 'area', 'with', 'leaves', 'on', 'the', 'ground', 'playing', 'frisbee', 'golf'], 'raw': 'A group of people in a wooded area with leaves on the ground playing frisbee golf.', 'imgid': 13806, 'sentid': 778975}], 'cocoid': 316617}\n"
     ]
    }
   ],
   "source": [
    "for img in data['images']:\n",
    "    if img['filename'].split('_')[2] == '000000316617.jpg':\n",
    "        print(img)"
   ]
  },
  {
   "cell_type": "code",
   "execution_count": 18,
   "metadata": {},
   "outputs": [
    {
     "name": "stdout",
     "output_type": "stream",
     "text": [
      "{'filepath': 'train2014', 'sentids': [96899, 104708, 114377, 121403, 125561], 'filename': 'COCO_train2014_000000001622.jpg', 'imgid': 121490, 'split': 'train', 'sentences': [{'tokens': ['a', 'dog', 'sitting', 'on', 'top', 'of', 'a', 'toilet'], 'raw': 'A dog sitting on top of a toilet.', 'imgid': 121490, 'sentid': 96899}, {'tokens': ['a', 'personable', 'little', 'dog', 'sits', 'on', 'top', 'of', 'the', 'closed', 'toilette', 'lid'], 'raw': 'A personable little dog sits on top of the closed toilette lid.', 'imgid': 121490, 'sentid': 104708}, {'tokens': ['a', 'dog', 'that', 'is', 'sitting', 'on', 'top', 'of', 'a', 'toilet'], 'raw': 'A dog that is sitting on top of a toilet.', 'imgid': 121490, 'sentid': 114377}, {'tokens': ['a', 'dog', 'sitting', 'on', 'top', 'of', 'a', 'pink', 'toilet'], 'raw': 'A dog sitting on top of a pink toilet.', 'imgid': 121490, 'sentid': 121403}, {'tokens': ['a', 'brown', 'and', 'white', 'dog', 'posed', 'on', 'top', 'of', 'a', 'toilet'], 'raw': 'A brown and white dog posed on top of a toilet.', 'imgid': 121490, 'sentid': 125561}], 'cocoid': 1622}\n"
     ]
    }
   ],
   "source": [
    "for img in data['images']:\n",
    "    if img['filename'].split('_')[2] == '000000001622.jpg':\n",
    "        print(img)"
   ]
  },
  {
   "cell_type": "code",
   "execution_count": 19,
   "metadata": {},
   "outputs": [
    {
     "name": "stdout",
     "output_type": "stream",
     "text": [
      "{'filepath': 'train2014', 'sentids': [318434, 320732, 326717, 328247, 330071], 'filename': 'COCO_train2014_000000569158.jpg', 'imgid': 64424, 'split': 'train', 'sentences': [{'tokens': ['a', 'man', 'riding', 'a', 'skateboard', 'while', 'being', 'towed', 'by', 'a', 'black', 'and', 'white', 'dog'], 'raw': 'A man riding a skateboard while being towed by a black and white dog.', 'imgid': 64424, 'sentid': 318434}, {'tokens': ['a', 'man', 'being', 'pulled', 'by', 'a', 'dog', 'while', 'on', 'a', 'skateboard'], 'raw': 'A man being pulled by a dog while on a skateboard.', 'imgid': 64424, 'sentid': 320732}, {'tokens': ['a', 'person', 'on', 'a', 'skateboard', 'with', 'a', 'leash', 'tied', 'to', 'a', 'dog'], 'raw': 'A person on a skateboard with a leash tied to a dog', 'imgid': 64424, 'sentid': 326717}, {'tokens': ['a', 'man', 'on', 'a', 'skateboard', 'and', 'a', 'dog', 'on', 'a', 'leash'], 'raw': 'A man on a skateboard and a dog on a leash', 'imgid': 64424, 'sentid': 328247}, {'tokens': ['a', 'man', 'on', 'a', 'skateboard', 'is', 'pulled', 'by', 'a', 'dog'], 'raw': 'A man on a skateboard is pulled by a dog.', 'imgid': 64424, 'sentid': 330071}], 'cocoid': 569158}\n"
     ]
    }
   ],
   "source": [
    "for img in data['images']:\n",
    "    if img['filename'].split('_')[2] == '000000569158.jpg':\n",
    "        print(img)"
   ]
  },
  {
   "cell_type": "code",
   "execution_count": null,
   "metadata": {},
   "outputs": [],
   "source": []
  },
  {
   "cell_type": "code",
   "execution_count": null,
   "metadata": {},
   "outputs": [],
   "source": []
  }
 ],
 "metadata": {
  "kernelspec": {
   "display_name": "Python 3",
   "language": "python",
   "name": "python3"
  },
  "language_info": {
   "codemirror_mode": {
    "name": "ipython",
    "version": 3
   },
   "file_extension": ".py",
   "mimetype": "text/x-python",
   "name": "python",
   "nbconvert_exporter": "python",
   "pygments_lexer": "ipython3",
   "version": "3.7.6"
  }
 },
 "nbformat": 4,
 "nbformat_minor": 4
}
